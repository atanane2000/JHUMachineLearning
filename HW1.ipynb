{
 "cells": [
  {
   "cell_type": "code",
   "execution_count": 1,
   "metadata": {
    "collapsed": false
   },
   "outputs": [
    {
     "name": "stdout",
     "output_type": "stream",
     "text": [
      "My name is Ahmed and I am excited about taking this course\n",
      "My name is Ahmed and I am excited about taking this course\n",
      "My name is Ahmed and I am excited about taking this course\n",
      "My name is Ahmed and I am excited about taking this course\n",
      "My name is Ahmed and I am excited about taking this course\n"
     ]
    }
   ],
   "source": [
    "for i in range(5):\n",
    "    print(\"My name is Ahmed and I am excited about taking this course\")"
   ]
  },
  {
   "cell_type": "code",
   "execution_count": 3,
   "metadata": {
    "collapsed": false
   },
   "outputs": [
    {
     "name": "stdout",
     "output_type": "stream",
     "text": [
      "sum of a random vector of uniform numbers is 4: \n"
     ]
    }
   ],
   "source": [
    "import numpy as np\n",
    "x = np.random.uniform(0,1,10)\n",
    "print(\"sum of a random vector of uniform numbers is %d: \" %x.sum())"
   ]
  },
  {
   "cell_type": "code",
   "execution_count": null,
   "metadata": {
    "collapsed": true
   },
   "outputs": [],
   "source": []
  }
 ],
 "metadata": {
  "kernelspec": {
   "display_name": "Python [Root]",
   "language": "python",
   "name": "Python [Root]"
  },
  "language_info": {
   "codemirror_mode": {
    "name": "ipython",
    "version": 3
   },
   "file_extension": ".py",
   "mimetype": "text/x-python",
   "name": "python",
   "nbconvert_exporter": "python",
   "pygments_lexer": "ipython3",
   "version": "3.5.2"
  }
 },
 "nbformat": 4,
 "nbformat_minor": 2
}
