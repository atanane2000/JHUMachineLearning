{
 "cells": [
  {
   "cell_type": "markdown",
   "metadata": {},
   "source": [
    "1. Finish creating the following function that takes a list and returns the average value."
   ]
  },
  {
   "cell_type": "code",
   "execution_count": 4,
   "metadata": {
    "collapsed": false
   },
   "outputs": [
    {
     "data": {
      "text/plain": [
       "3.375"
      ]
     },
     "execution_count": 4,
     "metadata": {},
     "output_type": "execute_result"
    }
   ],
   "source": [
    "def average(my_list):\n",
    "    \"\"\"\n",
    "    This function computes the arithmetic average\n",
    "    \"\"\"\n",
    "    total = 0\n",
    "    for item in my_list:\n",
    "        total += item\n",
    "    \n",
    "    return total/len(my_list)\n",
    "\n",
    "average([1,2,1,4,3,2,5,9])\n",
    "\n"
   ]
  },
  {
   "cell_type": "markdown",
   "metadata": {},
   "source": [
    "2. Using a Dictionary keep track of the count of numbers (or items) from a list\n"
   ]
  },
  {
   "cell_type": "code",
   "execution_count": 2,
   "metadata": {
    "collapsed": false
   },
   "outputs": [
    {
     "data": {
      "text/plain": [
       "{1: 2, 2: 2, 3: 1, 4: 1, 5: 1, 9: 1}"
      ]
     },
     "execution_count": 2,
     "metadata": {},
     "output_type": "execute_result"
    }
   ],
   "source": [
    "def counts(my_list):\n",
    "    \"\"\"\n",
    "    This function keeps track of the count of numbers from a list\n",
    "    \"\"\"\n",
    "    counts = dict()\n",
    "    for item in my_list:\n",
    "        counts[item] = my_list.count(item)\n",
    "    \n",
    "    return counts\n",
    "\n",
    "counts([1,2,1,4,3,2,5,9])"
   ]
  },
  {
   "cell_type": "markdown",
   "metadata": {},
   "source": [
    "3. Using the counts() function and the .split() function, return a dictionary of most occuring words from the following paragraph. Bonus, remove punctuation from words"
   ]
  },
  {
   "cell_type": "code",
   "execution_count": 3,
   "metadata": {
    "collapsed": false
   },
   "outputs": [
    {
     "data": {
      "text/plain": [
       "{'Alice': 5,\n",
       " 'An': 2,\n",
       " 'And': 1,\n",
       " 'At': 1,\n",
       " 'But': 1,\n",
       " 'Duchess': 2,\n",
       " 'First': 1,\n",
       " 'FishFootman': 2,\n",
       " 'Footman': 3,\n",
       " 'Footman’s': 1,\n",
       " 'For': 2,\n",
       " 'FrogFootman': 1,\n",
       " 'He': 1,\n",
       " 'I': 3,\n",
       " 'It': 1,\n",
       " 'I’m': 1,\n",
       " 'Queen': 2,\n",
       " 'She': 1,\n",
       " 'The': 2,\n",
       " 'Then': 1,\n",
       " 'a': 15,\n",
       " 'about': 1,\n",
       " 'against': 1,\n",
       " 'all': 3,\n",
       " 'aloud': 1,\n",
       " 'am': 2,\n",
       " 'and': 16,\n",
       " 'another': 1,\n",
       " 'answer': 1,\n",
       " 'any': 1,\n",
       " 'are': 2,\n",
       " 'arm': 1,\n",
       " 'as': 4,\n",
       " 'at': 6,\n",
       " 'attending': 1,\n",
       " 'back': 1,\n",
       " 'be': 2,\n",
       " 'because': 3,\n",
       " 'been': 1,\n",
       " 'began': 1,\n",
       " 'behind': 1,\n",
       " 'between': 1,\n",
       " 'both': 2,\n",
       " 'bowed': 1,\n",
       " 'broke': 1,\n",
       " 'broken': 1,\n",
       " 'by': 3,\n",
       " 'called': 1,\n",
       " 'came': 2,\n",
       " 'can’t': 1,\n",
       " 'certainly': 1,\n",
       " 'changing': 1,\n",
       " 'considered': 1,\n",
       " 'constant': 1,\n",
       " 'could': 2,\n",
       " 'crash': 1,\n",
       " 'crept': 1,\n",
       " 'croquet’': 2,\n",
       " 'curious': 1,\n",
       " 'curled': 1,\n",
       " 'curls': 1,\n",
       " 'decidedly': 1,\n",
       " 'dish': 1,\n",
       " 'do': 1,\n",
       " 'door': 6,\n",
       " 'entangled': 1,\n",
       " 'every': 1,\n",
       " 'extraordinary': 1,\n",
       " 'eyes': 2,\n",
       " 'face': 2,\n",
       " 'fear': 1,\n",
       " 'felt': 1,\n",
       " 'fish—and': 1,\n",
       " 'footman': 3,\n",
       " 'footmen': 1,\n",
       " 'for': 3,\n",
       " 'frog': 1,\n",
       " 'from': 2,\n",
       " 'get': 2,\n",
       " 'going': 1,\n",
       " 'gone': 1,\n",
       " 'got': 1,\n",
       " 'grazed': 1,\n",
       " 'great': 2,\n",
       " 'ground': 1,\n",
       " 'had': 4,\n",
       " 'hair': 1,\n",
       " 'handed': 1,\n",
       " 'have': 1,\n",
       " 'he': 5,\n",
       " 'head': 2,\n",
       " 'heads': 1,\n",
       " 'hear': 1,\n",
       " 'hearing': 1,\n",
       " 'help': 1,\n",
       " 'her': 2,\n",
       " 'here’': 1,\n",
       " 'herself': 1,\n",
       " 'him': 3,\n",
       " 'himself': 1,\n",
       " 'his': 5,\n",
       " 'house': 2,\n",
       " 'howling': 1,\n",
       " 'if': 2,\n",
       " 'in': 7,\n",
       " 'inside': 2,\n",
       " 'instance': 1,\n",
       " 'into': 3,\n",
       " 'invitation': 2,\n",
       " 'in’': 2,\n",
       " 'it': 2,\n",
       " 'it’': 1,\n",
       " 'judging': 1,\n",
       " 'just': 1,\n",
       " 'kettle': 1,\n",
       " 'knock': 1,\n",
       " 'knocked': 1,\n",
       " 'knocking’': 2,\n",
       " 'know': 1,\n",
       " 'know’': 1,\n",
       " 'knuckles': 1,\n",
       " 'large': 3,\n",
       " 'laughed': 1,\n",
       " 'let': 1,\n",
       " 'letter': 1,\n",
       " 'like': 1,\n",
       " 'listen': 1,\n",
       " 'little': 2,\n",
       " 'livery': 3,\n",
       " 'looking': 2,\n",
       " 'loudly': 1,\n",
       " 'low': 1,\n",
       " 'making': 1,\n",
       " 'might': 3,\n",
       " 'minute': 1,\n",
       " 'moment': 1,\n",
       " 'most': 1,\n",
       " 'much': 1,\n",
       " 'near': 1,\n",
       " 'nearly': 2,\n",
       " 'next': 2,\n",
       " 'no': 2,\n",
       " 'noise': 2,\n",
       " 'nose': 1,\n",
       " 'noticed': 1,\n",
       " 'now': 1,\n",
       " 'of': 9,\n",
       " 'on': 4,\n",
       " 'one': 2,\n",
       " 'only': 2,\n",
       " 'opened': 2,\n",
       " 'or': 2,\n",
       " 'order': 1,\n",
       " 'other': 2,\n",
       " 'otherwise': 1,\n",
       " 'out': 5,\n",
       " 'over': 2,\n",
       " 'peeped': 1,\n",
       " 'perhaps': 1,\n",
       " 'pieces': 2,\n",
       " 'plate': 1,\n",
       " 'play': 2,\n",
       " 'possibly': 1,\n",
       " 'powdered': 1,\n",
       " 'producing': 1,\n",
       " 'questions—How': 1,\n",
       " 'rapped': 1,\n",
       " 'rate': 1,\n",
       " 'reasons': 1,\n",
       " 'remarked': 1,\n",
       " 'repeated': 2,\n",
       " 'round': 1,\n",
       " 'run': 1,\n",
       " 'running': 1,\n",
       " 'said': 3,\n",
       " 'same': 2,\n",
       " 'saying': 1,\n",
       " 'secondly': 1,\n",
       " 'sense': 1,\n",
       " 'shall': 1,\n",
       " 'she': 6,\n",
       " 'side': 1,\n",
       " 'sit': 1,\n",
       " 'sitting': 1,\n",
       " 'skimming': 1,\n",
       " 'sky': 2,\n",
       " 'sneezing': 1,\n",
       " 'so': 2,\n",
       " 'solemn': 2,\n",
       " 'some': 1,\n",
       " 'sort': 1,\n",
       " 'speaking': 1,\n",
       " 'staring': 1,\n",
       " 'stood': 1,\n",
       " 'straight': 1,\n",
       " 'stupidly': 1,\n",
       " 'such': 1,\n",
       " 'suddenly': 1,\n",
       " 'that': 3,\n",
       " 'the': 32,\n",
       " 'their': 3,\n",
       " 'then': 1,\n",
       " 'then’': 1,\n",
       " 'there': 1,\n",
       " 'they': 1,\n",
       " 'they’re': 1,\n",
       " 'this': 4,\n",
       " 'thought': 1,\n",
       " 'time': 1,\n",
       " 'timidly': 1,\n",
       " 'to': 15,\n",
       " 'together': 1,\n",
       " 'tomorrow—’': 1,\n",
       " 'tone': 2,\n",
       " 'top': 1,\n",
       " 'trees': 1,\n",
       " 'two': 2,\n",
       " 'uncivil': 1,\n",
       " 'under': 1,\n",
       " 'up': 3,\n",
       " 'us': 1,\n",
       " 'use': 1,\n",
       " 'very': 2,\n",
       " 'was': 8,\n",
       " 'way': 1,\n",
       " 'we': 1,\n",
       " 'went': 2,\n",
       " 'were': 1,\n",
       " 'what': 2,\n",
       " 'when': 2,\n",
       " 'with': 2,\n",
       " 'within—a': 1,\n",
       " 'without': 1,\n",
       " 'wondering': 1,\n",
       " 'wood': 2,\n",
       " 'wood—she': 1,\n",
       " 'words': 1,\n",
       " 'would': 1,\n",
       " 'you': 5,\n",
       " 'your': 1,\n",
       " 'you’': 1,\n",
       " '‘But': 1,\n",
       " '‘For': 1,\n",
       " '‘From': 1,\n",
       " '‘I': 1,\n",
       " '‘Please': 1,\n",
       " '‘There': 1,\n",
       " '‘There’s': 1,\n",
       " '‘and': 1,\n",
       " '‘his': 1,\n",
       " '‘how': 1,\n",
       " '‘if': 1,\n",
       " '‘till': 1}"
      ]
     },
     "execution_count": 3,
     "metadata": {},
     "output_type": "execute_result"
    }
   ],
   "source": [
    "\n",
    "paragraph_text = '''\n",
    "For a minute or two she stood looking at the house, and wondering what to do next, when suddenly a footman in livery came running out of the wood—(she considered him to be a footman because he was in livery: otherwise, judging by his face only, she would have called him a fish)—and rapped loudly at the door with his knuckles. It was opened by another footman in livery, with a round face, and large eyes like a frog; and both footmen, Alice noticed, had powdered hair that curled all over their heads. She felt very curious to know what it was all about, and crept a little way out of the wood to listen.\n",
    "The Fish-Footman began by producing from under his arm a great letter, nearly as large as himself, and this he handed over to the other, saying, in a solemn tone, ‘For the Duchess. An invitation from the Queen to play croquet.’ The Frog-Footman repeated, in the same solemn tone, only changing the order of the words a little, ‘From the Queen. An invitation for the Duchess to play croquet.’\n",
    "Then they both bowed low, and their curls got entangled together.\n",
    "Alice laughed so much at this, that she had to run back into the wood for fear of their hearing her; and when she next peeped out the Fish-Footman was gone, and the other was sitting on the ground near the door, staring stupidly up into the sky.\n",
    "Alice went timidly up to the door, and knocked.\n",
    "‘There’s no sort of use in knocking,’ said the Footman, ‘and that for two reasons. First, because I’m on the same side of the door as you are; secondly, because they’re making such a noise inside, no one could possibly hear you.’ And certainly there was a most extraordinary noise going on within—a constant howling and sneezing, and every now and then a great crash, as if a dish or kettle had been broken to pieces.\n",
    "‘Please, then,’ said Alice, ‘how am I to get in?’\n",
    "‘There might be some sense in your knocking,’ the Footman went on without attending to her, ‘if we had the door between us. For instance, if you were inside, you might knock, and I could let you out, you know.’ He was looking up into the sky all the time he was speaking, and this Alice thought decidedly uncivil. ‘But perhaps he can’t help it,’ she said to herself; ‘his eyes are so very nearly at the top of his head. But at any rate he might answer questions.—How am I to get in?’ she repeated, aloud.\n",
    "‘I shall sit here,’ the Footman remarked, ‘till tomorrow—’\n",
    "At this moment the door of the house opened, and a large plate came skimming out, straight at the Footman’s head: it just grazed his nose, and broke to pieces against one of the trees behind him.'''\n",
    "\n",
    "import string\n",
    "punct = set(string.punctuation)\n",
    "a = \"\".join(x for x in paragraph_text if x not in punct)\n",
    "counts(a.split())\n",
    "\n",
    "\n"
   ]
  },
  {
   "cell_type": "markdown",
   "metadata": {},
   "source": [
    "1.Read in a file and write each line from the file to a new file Title-ized\n"
   ]
  },
  {
   "cell_type": "code",
   "execution_count": 25,
   "metadata": {
    "collapsed": false
   },
   "outputs": [
    {
     "data": {
      "text/plain": [
       "'DATA SCIENCE IS GREAT'"
      ]
     },
     "execution_count": 25,
     "metadata": {},
     "output_type": "execute_result"
    }
   ],
   "source": [
    "Str1 = 'data science is great'\n",
    "Str1.upper()"
   ]
  },
  {
   "cell_type": "markdown",
   "metadata": {},
   "source": [
    "1. Given a list, find the average using a numpy function.\n"
   ]
  },
  {
   "cell_type": "code",
   "execution_count": 27,
   "metadata": {
    "collapsed": false
   },
   "outputs": [
    {
     "data": {
      "text/plain": [
       "3.375"
      ]
     },
     "execution_count": 27,
     "metadata": {},
     "output_type": "execute_result"
    }
   ],
   "source": [
    "import numpy as np\n",
    "simple_list  = [1,2,1,4,3,2,5,9]\n",
    "x = np.array(simple_list)\n",
    "x.mean()\n"
   ]
  },
  {
   "cell_type": "markdown",
   "metadata": {},
   "source": [
    "\n",
    "2. Given two lists of Heights and Weights of individual, calculate the BMI of those individuals, without writing a for-loop"
   ]
  },
  {
   "cell_type": "code",
   "execution_count": 32,
   "metadata": {
    "collapsed": false
   },
   "outputs": [
    {
     "data": {
      "text/plain": [
       "array([ 4.04022989,  4.06358382,  4.06358382,  4.01714286,  4.11111111])"
      ]
     },
     "execution_count": 32,
     "metadata": {},
     "output_type": "execute_result"
    }
   ],
   "source": [
    "import numpy as np\n",
    "heights = np.array([174, 173, 173, 175, 171])\n",
    "weights = np.array([88, 83, 92, 74, 77])\n",
    "BMI = 703*weights/(weights*heights)\n",
    "BMI"
   ]
  },
  {
   "cell_type": "markdown",
   "metadata": {},
   "source": [
    "3. Create an array of length 20 filled with random values (between 0 to 1)"
   ]
  },
  {
   "cell_type": "code",
   "execution_count": 34,
   "metadata": {
    "collapsed": false
   },
   "outputs": [
    {
     "data": {
      "text/plain": [
       "array([ 0.6713075 ,  0.71660997,  0.16459845,  0.48139437,  0.95194432,\n",
       "        0.97891152,  0.25273975,  0.39495007,  0.29857946,  0.41923733,\n",
       "        0.53982213,  0.75874212,  0.12938339,  0.4829185 ,  0.85905321,\n",
       "        0.42931614,  0.30386443,  0.2875226 ,  0.11127129,  0.18364928])"
      ]
     },
     "execution_count": 34,
     "metadata": {},
     "output_type": "execute_result"
    }
   ],
   "source": [
    "import numpy as np\n",
    "\n",
    "x = np.random.uniform(0, 1,20)\n",
    "x"
   ]
  },
  {
   "cell_type": "code",
   "execution_count": null,
   "metadata": {
    "collapsed": true
   },
   "outputs": [],
   "source": [
    "%%file hw_data.csv\n",
    "id,sex,weight,height\n",
    "1,M,190,77\n",
    "2,F,120,70\n",
    "3,F,110,68\n",
    "4,M,150,72\n",
    "5,O,120,66\n",
    "6,M,120,60\n",
    "7,F,140,70\n"
   ]
  },
  {
   "cell_type": "code",
   "execution_count": 1,
   "metadata": {
    "collapsed": true
   },
   "outputs": [],
   "source": [
    "import pandas as pd\n",
    "df1=pd.read_csv(\"/Users/e_chertow/Documents/Ahmed/Documents/JhuMachineLearning/HW1.csv\")"
   ]
  },
  {
   "cell_type": "code",
   "execution_count": 5,
   "metadata": {
    "collapsed": false
   },
   "outputs": [
    {
     "name": "stdout",
     "output_type": "stream",
     "text": [
      "   id sex  weight  height\n",
      "0   1   M     190      77\n",
      "1   2   F     120      70\n",
      "2   3   F     110      68\n",
      "3   4   M     150      72\n",
      "4   5   O     120      66\n",
      "5   6   M     120      60\n",
      "6   7   F     140      70\n"
     ]
    },
    {
     "data": {
      "text/plain": [
       "id         int64\n",
       "sex       object\n",
       "weight     int64\n",
       "height     int64\n",
       "dtype: object"
      ]
     },
     "execution_count": 5,
     "metadata": {},
     "output_type": "execute_result"
    }
   ],
   "source": [
    "print(df1)\n",
    "df1.dtypes\n"
   ]
  },
  {
   "cell_type": "markdown",
   "metadata": {},
   "source": [
    "2. Find the average weight\n"
   ]
  },
  {
   "cell_type": "code",
   "execution_count": 6,
   "metadata": {
    "collapsed": false
   },
   "outputs": [
    {
     "data": {
      "text/plain": [
       "135.71428571428572"
      ]
     },
     "execution_count": 6,
     "metadata": {},
     "output_type": "execute_result"
    }
   ],
   "source": [
    "df1[\"weight\"].mean()"
   ]
  },
  {
   "cell_type": "markdown",
   "metadata": {},
   "source": [
    "Find the Value Counts on column sex\n"
   ]
  },
  {
   "cell_type": "code",
   "execution_count": 10,
   "metadata": {
    "collapsed": false
   },
   "outputs": [
    {
     "data": {
      "text/plain": [
       "F    3\n",
       "M    3\n",
       "O    1\n",
       "Name: sex, dtype: int64"
      ]
     },
     "execution_count": 10,
     "metadata": {},
     "output_type": "execute_result"
    }
   ],
   "source": [
    "df1['sex'].value_counts()"
   ]
  },
  {
   "cell_type": "code",
   "execution_count": 17,
   "metadata": {
    "collapsed": false
   },
   "outputs": [
    {
     "data": {
      "image/png": "[encoded data removed]",
      "text/plain": [
       "<matplotlib.figure.Figure at 0x10e127390>"
      ]
     },
     "metadata": {},
     "output_type": "display_data"
    }
   ],
   "source": [
    "import matplotlib.pyplot as plt\n",
    "plt.style.use('ggplot')\n",
    "plt.scatter(df1['height'],df1['weight'])\n",
    "plt.show()\n"
   ]
  },
  {
   "cell_type": "markdown",
   "metadata": {},
   "source": [
    " Calculate BMI and save as a new column"
   ]
  },
  {
   "cell_type": "code",
   "execution_count": 18,
   "metadata": {
    "collapsed": true
   },
   "outputs": [],
   "source": [
    "df1['BMI'] = 703*df1['weight']/(df1['weight']*df1['height'])"
   ]
  },
  {
   "cell_type": "code",
   "execution_count": 19,
   "metadata": {
    "collapsed": false
   },
   "outputs": [
    {
     "name": "stdout",
     "output_type": "stream",
     "text": [
      "   id sex  weight  height        BMI\n",
      "0   1   M     190      77   9.129870\n",
      "1   2   F     120      70  10.042857\n",
      "2   3   F     110      68  10.338235\n",
      "3   4   M     150      72   9.763889\n",
      "4   5   O     120      66  10.651515\n",
      "5   6   M     120      60  11.716667\n",
      "6   7   F     140      70  10.042857\n"
     ]
    }
   ],
   "source": [
    "print(df1)"
   ]
  },
  {
   "cell_type": "markdown",
   "metadata": {},
   "source": [
    "Save sheet as a new CSV file hw_dataB.csv"
   ]
  },
  {
   "cell_type": "code",
   "execution_count": 20,
   "metadata": {
    "collapsed": true
   },
   "outputs": [],
   "source": [
    "df1.to_csv(\"/Users/e_chertow/Documents/Ahmed/Documents/JhuMachineLearning/hw_dataB.csv\")"
   ]
  },
  {
   "cell_type": "code",
   "execution_count": 1,
   "metadata": {
    "collapsed": false
   },
   "outputs": [
    {
     "name": "stdout",
     "output_type": "stream",
     "text": [
      ",id,sex,weight,height,BMI\r\n",
      "0,1,M,190,77,9.12987012987013\r\n",
      "1,2,F,120,70,10.042857142857143\r\n",
      "2,3,F,110,68,10.338235294117647\r\n",
      "3,4,M,150,72,9.76388888888889\r\n",
      "4,5,O,120,66,10.651515151515152\r\n",
      "5,6,M,120,60,11.716666666666667\r\n",
      "6,7,F,140,70,10.042857142857143\r\n"
     ]
    }
   ],
   "source": [
    "!cat /Users/e_chertow/Documents/Ahmed/Documents/JhuMachineLearning/hw_dataB.csv\n"
   ]
  },
  {
   "cell_type": "code",
   "execution_count": null,
   "metadata": {
    "collapsed": true
   },
   "outputs": [],
   "source": []
  }
 ],
 "metadata": {
  "kernelspec": {
   "display_name": "Python [Root]",
   "language": "python",
   "name": "Python [Root]"
  },
  "language_info": {
   "codemirror_mode": {
    "name": "ipython",
    "version": 3
   },
   "file_extension": ".py",
   "mimetype": "text/x-python",
   "name": "python",
   "nbconvert_exporter": "python",
   "pygments_lexer": "ipython3",
   "version": "3.5.2"
  }
 },
 "nbformat": 4,
 "nbformat_minor": 2
}
