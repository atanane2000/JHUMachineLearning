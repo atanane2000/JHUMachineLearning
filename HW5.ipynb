{
 "cells": [
  {
   "cell_type": "code",
   "execution_count": 1,
   "metadata": {
    "collapsed": true
   },
   "outputs": [],
   "source": [
    "from sklearn.linear_model import LinearRegression\n",
    "import numpy as np\n",
    "import matplotlib.pylab as plt\n",
    "%matplotlib inline\n",
    "from sklearn import linear_model"
   ]
  },
  {
   "cell_type": "code",
   "execution_count": 2,
   "metadata": {
    "collapsed": false
   },
   "outputs": [
    {
     "data": {
      "text/plain": [
       "<matplotlib.collections.PathCollection at 0x1124d8978>"
      ]
     },
     "execution_count": 2,
     "metadata": {},
     "output_type": "execute_result"
    },
    {
     "data": {
      "image/png": "[encoded data removed]",
      "text/plain": [
       "<matplotlib.figure.Figure at 0x106623b38>"
      ]
     },
     "metadata": {},
     "output_type": "display_data"
    }
   ],
   "source": [
    "n = 10000\n",
    "x = np.linspace(0.01, 1, n).reshape(-1, 1)\n",
    "y = np.linspace(0.01, 1, n)  + np.random.rand(n) - .5\n",
    "\n",
    "\n",
    "plt.scatter(x,y)"
   ]
  },
  {
   "cell_type": "markdown",
   "metadata": {},
   "source": [
    "Assignment 5\n",
    "1. Create and fit a Linear Regression Model\n",
    "Calculate the Training error and Testing error using sklearn with a .50 split"
   ]
  },
  {
   "cell_type": "code",
   "execution_count": 4,
   "metadata": {
    "collapsed": false
   },
   "outputs": [
    {
     "name": "stdout",
     "output_type": "stream",
     "text": [
      "the training error is: 0.0833385727281\n",
      "the test error is:  0.0849722787711\n"
     ]
    }
   ],
   "source": [
    "from sklearn import cross_validation\n",
    "from sklearn.metrics import mean_squared_error\n",
    "X_train, X_test , y_train, y_test = cross_validation.train_test_split(x, y, test_size=0.5, random_state = 1)\n",
    "\n",
    "ML  = linear_model.LinearRegression()\n",
    "ML.fit(X_train,y_train)\n",
    "\n",
    "predtrain = ML.predict(X_train)\n",
    "print('the training error is:' ,mean_squared_error(y_train, predtrain))\n",
    "\n",
    "predtest = ML.predict(X_test)\n",
    "print('the test error is: ', mean_squared_error(y_test, predtest))\n"
   ]
  },
  {
   "cell_type": "markdown",
   "metadata": {},
   "source": [
    "2. Repeat #1 for a Ridge Regression"
   ]
  },
  {
   "cell_type": "code",
   "execution_count": 7,
   "metadata": {
    "collapsed": false
   },
   "outputs": [
    {
     "name": "stdout",
     "output_type": "stream",
     "text": [
      "the training error is: 0.0833386924379\n",
      "the test error is:  0.0849775236424\n"
     ]
    }
   ],
   "source": [
    "MR = linear_model.Ridge(alpha = 0.5)\n",
    "MR.fit(X_train,y_train)\n",
    "\n",
    "predtrainR = MR.predict(X_train)\n",
    "print('the training error is:' ,mean_squared_error(y_train, predtrainR))\n",
    "\n",
    "predtestR = MR.predict(X_test)\n",
    "print('the test error is: ', mean_squared_error(y_test, predtestR))\n",
    "\n",
    "\n",
    "\n"
   ]
  },
  {
   "cell_type": "markdown",
   "metadata": {},
   "source": [
    "3. Vary the split size from .01 to .99 with at least 10 values (the more the merrier!). \n",
    "Plot the resulting Training error and Testing error vs. split size. \n",
    "Create separate plots for Linear and Ridge¶"
   ]
  },
  {
   "cell_type": "code",
   "execution_count": 50,
   "metadata": {
    "collapsed": false
   },
   "outputs": [
    {
     "data": {
      "image/png": "[encoded data removed]",
      "text/plain": [
       "<matplotlib.figure.Figure at 0x1163eaeb8>"
      ]
     },
     "metadata": {},
     "output_type": "display_data"
    }
   ],
   "source": [
    "\n",
    "split = np.linspace(0.01,0.99,100)\n",
    "ErrortrainL = []\n",
    "ErrortestL =  []\n",
    "ErrortrainR = []\n",
    "ErrortestR =  []\n",
    "\n",
    "\n",
    "for i in split:\n",
    "\n",
    "    X_train, X_test , y_train, y_test = cross_validation.train_test_split(x, y, test_size=i, random_state = 1)\n",
    "    ML.fit(X_train,y_train)\n",
    "    predtrain = ML.predict(X_train)\n",
    "    predtest = ML.predict(X_test)\n",
    "    ErrortrainL.append(mean_squared_error(y_train, predtrain))\n",
    "    ErrortestL.append(mean_squared_error(y_test, predtest)) \n",
    "    \n",
    "    MR.fit(X_train,y_train)\n",
    "    predtrainR = MR.predict(X_train)\n",
    "    predtestR = MR.predict(X_test)\n",
    "    ErrortrainR.append(mean_squared_error(y_train, predtrainR))\n",
    "    ErrortestR.append(mean_squared_error(y_test, predtestR))\n",
    "    \n",
    "\n",
    "plt.style.use('ggplot')\n",
    "\n",
    "fig, ax = plt.subplots(2,2) \n",
    "ax[0,0].scatter(split,ErrortrainL) \n",
    "ax[0,1].scatter(split,ErrortestL) \n",
    "ax[1,0].scatter(split,ErrortrainR) \n",
    "ax[1,1].scatter(split,ErrortestR)\n",
    "\n",
    "plt.show()\n",
    "\n",
    " \n",
    "    \n",
    "    \n",
    "    \n",
    "\n",
    "\n",
    "\n",
    "\n",
    "\n",
    "\n",
    "\n"
   ]
  },
  {
   "cell_type": "markdown",
   "metadata": {},
   "source": [
    "4. Chose an ideal split size based on the previous plot for Ridge.\n",
    "Vary the Ridge parameter alpha from 0 to any value you'd like above 1. Plot the Train and Test error. Describe what you see based on the alpha parameter's stiffness."
   ]
  },
  {
   "cell_type": "code",
   "execution_count": 58,
   "metadata": {
    "collapsed": false
   },
   "outputs": [
    {
     "name": "stdout",
     "output_type": "stream",
     "text": [
      "0.910808080808\n",
      "0.99\n",
      "0.005\n",
      "0.005\n"
     ]
    },
    {
     "data": {
      "text/plain": [
       "<matplotlib.collections.PathCollection at 0x112b28b00>"
      ]
     },
     "execution_count": 58,
     "metadata": {},
     "output_type": "execute_result"
    },
    {
     "data": {
      "image/png": "[encoded data removed]",
      "text/plain": [
       "<matplotlib.figure.Figure at 0x112b289e8>"
      ]
     },
     "metadata": {},
     "output_type": "display_data"
    }
   ],
   "source": [
    "'locate the minimum test error for the ridge regression'\n",
    "minIndextest = ErrortestR.index(min(ErrortestR))\n",
    "print(split[minIndextest])\n",
    "minIndextrain = ErrortrainR.index(min(ErrortrainR))\n",
    "print(split[minIndextrain])\n",
    "\n",
    "'use 91%'\n",
    "X_train, X_test , y_train, y_test = cross_validation.train_test_split(x, y, test_size=0.91, random_state = 1)\n",
    "\n",
    "alphas = 10**np.linspace(10,-2,100)*0.5\n",
    "\n",
    "RidgeErrortrain = []\n",
    "RidgeErrortest  = []\n",
    "\n",
    "for i in alphas:\n",
    "    \n",
    "    MR = linear_model.Ridge(alpha = i)\n",
    "    MR.fit(X_train,y_train)\n",
    "    predtrainR = MR.predict(X_train)\n",
    "    RidgeErrortrain.append(mean_squared_error(y_train, predtrainR))\n",
    "    predtestR = MR.predict(X_test)\n",
    "    RidgeErrortest.append(mean_squared_error(y_test, predtestR))\n",
    "    \n",
    "print(alphas[RidgeErrortrain.index(min(RidgeErrortrain))])\n",
    "print(alphas[RidgeErrortest.index(min(RidgeErrortest))])\n",
    "\n",
    "plt.scatter(alphas,RidgeErrortrain)\n",
    "\n",
    "plt.scatter(alphas,RidgeErrortest)\n",
    "\n",
    "    \n",
    "    \n"
   ]
  },
  {
   "cell_type": "markdown",
   "metadata": {},
   "source": [
    " Based on a test size of 91%, the optimal ridge parameter is 0.005, very close to zero which means that the ridge regression gives similar results to a linear regression"
   ]
  },
  {
   "cell_type": "code",
   "execution_count": null,
   "metadata": {
    "collapsed": true
   },
   "outputs": [],
   "source": []
  }
 ],
 "metadata": {
  "kernelspec": {
   "display_name": "Python [Root]",
   "language": "python",
   "name": "Python [Root]"
  },
  "language_info": {
   "codemirror_mode": {
    "name": "ipython",
    "version": 3
   },
   "file_extension": ".py",
   "mimetype": "text/x-python",
   "name": "python",
   "nbconvert_exporter": "python",
   "pygments_lexer": "ipython3",
   "version": "3.5.2"
  }
 },
 "nbformat": 4,
 "nbformat_minor": 2
}
